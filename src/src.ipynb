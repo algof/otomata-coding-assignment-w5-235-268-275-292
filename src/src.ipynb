{
 "cells": [
  {
   "cell_type": "markdown",
   "metadata": {},
   "source": [
    "**Importing Library**"
   ]
  },
  {
   "cell_type": "code",
   "execution_count": 6,
   "metadata": {},
   "outputs": [],
   "source": [
    "import json"
   ]
  },
  {
   "cell_type": "markdown",
   "metadata": {},
   "source": [
    "**Sample Input**"
   ]
  },
  {
   "cell_type": "code",
   "execution_count": 7,
   "metadata": {},
   "outputs": [],
   "source": [
    "sample_input_1 = '''\n",
    "{\n",
    "    \"states\" : {\n",
    "        \"q0\" : \"A\",\n",
    "        \"q1\" : \"B\",\n",
    "        \"q2\" : \"C\"\n",
    "    },\n",
    "    \"transitions\" : {\n",
    "        \"q0\" : {\"0\" : \"q1\", \"1\" : \"q2\"},\n",
    "        \"q1\" : {\"0\" : \"q0\", \"1\" : \"q2\"},\n",
    "        \"q2\" : {\"0\" : \"q1\", \"1\" : \"q0\"}\n",
    "    },\n",
    "    \"initial_state\" : \"q0\",\n",
    "    \"test_string\" : \"011001\"\n",
    "}\n",
    "'''"
   ]
  },
  {
   "cell_type": "markdown",
   "metadata": {},
   "source": [
    "**Load JSON to local variable**"
   ]
  },
  {
   "cell_type": "code",
   "execution_count": 8,
   "metadata": {},
   "outputs": [],
   "source": [
    "data = json.loads(sample_input_1)"
   ]
  },
  {
   "cell_type": "markdown",
   "metadata": {},
   "source": [
    "**Moore Machine**"
   ]
  },
  {
   "cell_type": "code",
   "execution_count": 9,
   "metadata": {},
   "outputs": [],
   "source": [
    "def run_moore(data):\n",
    "    states = data['states']\n",
    "    transitions = data['transitions']\n",
    "    initial_state = data['initial_state']\n",
    "    test_string = data['test_string']\n",
    "    \n",
    "    current_state = initial_state\n",
    "    path = [current_state]\n",
    "    output = [states[current_state]]\n",
    "    \n",
    "    for symbol in test_string:\n",
    "        current_state = transitions[current_state][symbol]\n",
    "        path.append(current_state)\n",
    "        output.append(states[current_state])\n",
    "\n",
    "    print(\"Path:\", \" → \".join(path))\n",
    "    print(\"Output:\", \"\".join(output))"
   ]
  },
  {
   "cell_type": "markdown",
   "metadata": {},
   "source": [
    "**Testing**"
   ]
  },
  {
   "cell_type": "code",
   "execution_count": 10,
   "metadata": {},
   "outputs": [
    {
     "name": "stdout",
     "output_type": "stream",
     "text": [
      "Path: q0 → q1 → q2 → q0 → q1 → q0 → q2\n",
      "Output: ABCABAC\n"
     ]
    }
   ],
   "source": [
    "run_moore(data)"
   ]
  }
 ],
 "metadata": {
  "kernelspec": {
   "display_name": "Python 3",
   "language": "python",
   "name": "python3"
  },
  "language_info": {
   "codemirror_mode": {
    "name": "ipython",
    "version": 3
   },
   "file_extension": ".py",
   "mimetype": "text/x-python",
   "name": "python",
   "nbconvert_exporter": "python",
   "pygments_lexer": "ipython3",
   "version": "3.12.8"
  }
 },
 "nbformat": 4,
 "nbformat_minor": 2
}
