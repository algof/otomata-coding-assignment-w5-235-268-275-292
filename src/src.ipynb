{
 "cells": [
  {
   "cell_type": "markdown",
   "metadata": {},
   "source": [
    "# Source code 1"
   ]
  },
  {
   "cell_type": "code",
   "execution_count": 1,
   "metadata": {},
   "outputs": [
    {
     "name": "stdout",
     "output_type": "stream",
     "text": [
      "Input: 011001\n",
      "Path: q0 → q1 → q2 → q0 → q1 → q0 → q2\n",
      "Output: ABCABAC\n"
     ]
    }
   ],
   "source": [
    "import json\n",
    "\n",
    "def run_moore(data):\n",
    "    states = data['states']\n",
    "    transitions = data['transitions']\n",
    "    initial_state = data['initial_state']\n",
    "    test_string = data['test_string']\n",
    "    \n",
    "    current_state = initial_state\n",
    "    path = [current_state]\n",
    "    output = [states[current_state]]\n",
    "    \n",
    "    for symbol in test_string:\n",
    "        current_state = transitions[current_state][symbol]\n",
    "        path.append(current_state)\n",
    "        output.append(states[current_state])\n",
    "\n",
    "    print(\"Input:\", test_string)\n",
    "    print(\"Path:\", \" → \".join(path))\n",
    "    print(\"Output:\", \"\".join(output))\n",
    "\n",
    "sample_input_1 = '''\n",
    "{\n",
    "    \"states\" : {\n",
    "        \"q0\" : \"A\",\n",
    "        \"q1\" : \"B\",\n",
    "        \"q2\" : \"C\"\n",
    "    },\n",
    "    \"transitions\" : {\n",
    "        \"q0\" : {\"0\" : \"q1\", \"1\" : \"q2\"},\n",
    "        \"q1\" : {\"0\" : \"q0\", \"1\" : \"q2\"},\n",
    "        \"q2\" : {\"0\" : \"q1\", \"1\" : \"q0\"}\n",
    "    },\n",
    "    \"initial_state\" : \"q0\",\n",
    "    \"test_string\" : \"011001\"\n",
    "}\n",
    "'''\n",
    "\n",
    "data = json.loads(sample_input_1)\n",
    "\n",
    "run_moore(data)"
   ]
  },
  {
   "cell_type": "markdown",
   "metadata": {},
   "source": [
    "# Source code 2"
   ]
  },
  {
   "cell_type": "code",
   "execution_count": 2,
   "metadata": {},
   "outputs": [
    {
     "name": "stdout",
     "output_type": "stream",
     "text": [
      "Input: 011001\n",
      "Path: q0 → q1 → q2 → q0 → q1 → q0 → q2\n",
      "Output: ABCABAC\n"
     ]
    }
   ],
   "source": [
    "import json\n",
    "\n",
    "def run_moore(data):\n",
    "    states = data['states']\n",
    "    transitions = data['transitions']\n",
    "    initial_state = data['initial_state']\n",
    "    test_string = data['test_string']\n",
    "    \n",
    "    current_state = initial_state\n",
    "    path = [current_state]\n",
    "    output = [states[current_state]]\n",
    "    \n",
    "    for symbol in test_string:\n",
    "        current_state = transitions[current_state][symbol]\n",
    "        path.append(current_state)\n",
    "        output.append(states[current_state])\n",
    "\n",
    "    print(\"Input:\", test_string)\n",
    "    print(\"Path:\", \" → \".join(path))\n",
    "    print(\"Output:\", \"\".join(output))\n",
    "\n",
    "# Ubah bila diperlukan, tergantung dari direktori mana kita menjalankan kode python ini\n",
    "file_path = \"input.json\"\n",
    "\n",
    "try:\n",
    "    with open(file_path, \"r\") as file:\n",
    "        data = json.load(file)\n",
    "        run_moore(data)\n",
    "except FileNotFoundError:\n",
    "    print(f\"Error: File '{file_path}' tidak ditemukan.\")\n",
    "except json.JSONDecodeError as e:\n",
    "    print(\"Error: Format JSON tidak valid.\")"
   ]
  }
 ],
 "metadata": {
  "kernelspec": {
   "display_name": "Python 3",
   "language": "python",
   "name": "python3"
  },
  "language_info": {
   "codemirror_mode": {
    "name": "ipython",
    "version": 3
   },
   "file_extension": ".py",
   "mimetype": "text/x-python",
   "name": "python",
   "nbconvert_exporter": "python",
   "pygments_lexer": "ipython3",
   "version": "3.12.8"
  }
 },
 "nbformat": 4,
 "nbformat_minor": 2
}
